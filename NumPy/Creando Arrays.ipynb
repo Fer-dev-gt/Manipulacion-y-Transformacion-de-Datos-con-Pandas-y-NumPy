{
 "cells": [
  {
   "cell_type": "code",
   "execution_count": 4,
   "id": "80871d2e",
   "metadata": {},
   "outputs": [],
   "source": [
    "import numpy as np"
   ]
  },
  {
   "cell_type": "markdown",
   "id": "bababad9",
   "metadata": {},
   "source": [
    "## Creando lista normal con solo Python"
   ]
  },
  {
   "cell_type": "code",
   "execution_count": 5,
   "id": "53a1a2e1",
   "metadata": {},
   "outputs": [
    {
     "data": {
      "text/plain": [
       "[0, 1, 2, 3, 4, 5, 6, 7, 8, 9]"
      ]
     },
     "execution_count": 5,
     "metadata": {},
     "output_type": "execute_result"
    }
   ],
   "source": [
    "list(range(0,10))"
   ]
  },
  {
   "cell_type": "markdown",
   "id": "6a958987",
   "metadata": {},
   "source": [
    "## Creando un Array directamente con NumPy"
   ]
  },
  {
   "cell_type": "code",
   "execution_count": 7,
   "id": "1a094fdf",
   "metadata": {},
   "outputs": [
    {
     "data": {
      "text/plain": [
       "array([0, 1, 2, 3, 4, 5, 6, 7, 8, 9])"
      ]
     },
     "execution_count": 7,
     "metadata": {},
     "output_type": "execute_result"
    }
   ],
   "source": [
    "np.arange(0,10)"
   ]
  },
  {
   "cell_type": "markdown",
   "id": "ff9edfb1",
   "metadata": {},
   "source": [
    "## Creando un Array con pasos especificados"
   ]
  },
  {
   "cell_type": "code",
   "execution_count": 8,
   "id": "ffbba702",
   "metadata": {},
   "outputs": [
    {
     "data": {
      "text/plain": [
       "array([ 0,  2,  4,  6,  8, 10, 12, 14, 16, 18])"
      ]
     },
     "execution_count": 8,
     "metadata": {},
     "output_type": "execute_result"
    }
   ],
   "source": [
    "np.arange(0,20,2)"
   ]
  },
  {
   "cell_type": "markdown",
   "id": "b6814341",
   "metadata": {},
   "source": [
    "## Creando un Array con valores en 0 y longitud especificada"
   ]
  },
  {
   "cell_type": "code",
   "execution_count": 9,
   "id": "c609d508",
   "metadata": {},
   "outputs": [
    {
     "data": {
      "text/plain": [
       "array([0., 0., 0.])"
      ]
     },
     "execution_count": 9,
     "metadata": {},
     "output_type": "execute_result"
    }
   ],
   "source": [
    "np.zeros(3)"
   ]
  },
  {
   "cell_type": "markdown",
   "id": "833bca27",
   "metadata": {},
   "source": [
    "##  Creando una matriz de 10x10 con valores de 0"
   ]
  },
  {
   "cell_type": "code",
   "execution_count": 10,
   "id": "9961bd94",
   "metadata": {},
   "outputs": [
    {
     "data": {
      "text/plain": [
       "array([[0., 0., 0., 0., 0., 0., 0., 0., 0., 0.],\n",
       "       [0., 0., 0., 0., 0., 0., 0., 0., 0., 0.],\n",
       "       [0., 0., 0., 0., 0., 0., 0., 0., 0., 0.],\n",
       "       [0., 0., 0., 0., 0., 0., 0., 0., 0., 0.],\n",
       "       [0., 0., 0., 0., 0., 0., 0., 0., 0., 0.],\n",
       "       [0., 0., 0., 0., 0., 0., 0., 0., 0., 0.],\n",
       "       [0., 0., 0., 0., 0., 0., 0., 0., 0., 0.],\n",
       "       [0., 0., 0., 0., 0., 0., 0., 0., 0., 0.],\n",
       "       [0., 0., 0., 0., 0., 0., 0., 0., 0., 0.],\n",
       "       [0., 0., 0., 0., 0., 0., 0., 0., 0., 0.]])"
      ]
     },
     "execution_count": 10,
     "metadata": {},
     "output_type": "execute_result"
    }
   ],
   "source": [
    "np.zeros((10,10))"
   ]
  },
  {
   "cell_type": "markdown",
   "id": "5b4f19b9",
   "metadata": {},
   "source": [
    "## Le podemos especificar las dimensiones de la matriz"
   ]
  },
  {
   "cell_type": "code",
   "execution_count": 11,
   "id": "0032651a",
   "metadata": {},
   "outputs": [
    {
     "data": {
      "text/plain": [
       "array([[0., 0., 0., 0., 0.],\n",
       "       [0., 0., 0., 0., 0.],\n",
       "       [0., 0., 0., 0., 0.],\n",
       "       [0., 0., 0., 0., 0.],\n",
       "       [0., 0., 0., 0., 0.],\n",
       "       [0., 0., 0., 0., 0.],\n",
       "       [0., 0., 0., 0., 0.],\n",
       "       [0., 0., 0., 0., 0.],\n",
       "       [0., 0., 0., 0., 0.],\n",
       "       [0., 0., 0., 0., 0.]])"
      ]
     },
     "execution_count": 11,
     "metadata": {},
     "output_type": "execute_result"
    }
   ],
   "source": [
    "np.zeros((10,5))"
   ]
  },
  {
   "cell_type": "markdown",
   "id": "5efc9cef",
   "metadata": {},
   "source": [
    "## Tambien pueden ser valores de 1"
   ]
  },
  {
   "cell_type": "code",
   "execution_count": 12,
   "id": "2fd24827",
   "metadata": {},
   "outputs": [
    {
     "data": {
      "text/plain": [
       "array([[1., 1., 1., 1., 1.],\n",
       "       [1., 1., 1., 1., 1.],\n",
       "       [1., 1., 1., 1., 1.],\n",
       "       [1., 1., 1., 1., 1.],\n",
       "       [1., 1., 1., 1., 1.],\n",
       "       [1., 1., 1., 1., 1.],\n",
       "       [1., 1., 1., 1., 1.],\n",
       "       [1., 1., 1., 1., 1.],\n",
       "       [1., 1., 1., 1., 1.],\n",
       "       [1., 1., 1., 1., 1.]])"
      ]
     },
     "execution_count": 12,
     "metadata": {},
     "output_type": "execute_result"
    }
   ],
   "source": [
    "np.ones((10,5))"
   ]
  },
  {
   "cell_type": "markdown",
   "id": "2687f84d",
   "metadata": {},
   "source": [
    "## Creando una distribución de 1 a 10\n"
   ]
  },
  {
   "cell_type": "code",
   "execution_count": 32,
   "id": "451dcf66",
   "metadata": {},
   "outputs": [
    {
     "data": {
      "text/plain": [
       "array([ 0.        ,  1.11111111,  2.22222222,  3.33333333,  4.44444444,\n",
       "        5.55555556,  6.66666667,  7.77777778,  8.88888889, 10.        ])"
      ]
     },
     "execution_count": 32,
     "metadata": {},
     "output_type": "execute_result"
    }
   ],
   "source": [
    "np.linspace(0,10,10)"
   ]
  },
  {
   "cell_type": "markdown",
   "id": "04c90cb0",
   "metadata": {},
   "source": [
    "## Creando una distribución de 1 a 100"
   ]
  },
  {
   "cell_type": "code",
   "execution_count": 15,
   "id": "51b25bc9",
   "metadata": {},
   "outputs": [
    {
     "data": {
      "text/plain": [
       "array([ 0.        ,  0.1010101 ,  0.2020202 ,  0.3030303 ,  0.4040404 ,\n",
       "        0.50505051,  0.60606061,  0.70707071,  0.80808081,  0.90909091,\n",
       "        1.01010101,  1.11111111,  1.21212121,  1.31313131,  1.41414141,\n",
       "        1.51515152,  1.61616162,  1.71717172,  1.81818182,  1.91919192,\n",
       "        2.02020202,  2.12121212,  2.22222222,  2.32323232,  2.42424242,\n",
       "        2.52525253,  2.62626263,  2.72727273,  2.82828283,  2.92929293,\n",
       "        3.03030303,  3.13131313,  3.23232323,  3.33333333,  3.43434343,\n",
       "        3.53535354,  3.63636364,  3.73737374,  3.83838384,  3.93939394,\n",
       "        4.04040404,  4.14141414,  4.24242424,  4.34343434,  4.44444444,\n",
       "        4.54545455,  4.64646465,  4.74747475,  4.84848485,  4.94949495,\n",
       "        5.05050505,  5.15151515,  5.25252525,  5.35353535,  5.45454545,\n",
       "        5.55555556,  5.65656566,  5.75757576,  5.85858586,  5.95959596,\n",
       "        6.06060606,  6.16161616,  6.26262626,  6.36363636,  6.46464646,\n",
       "        6.56565657,  6.66666667,  6.76767677,  6.86868687,  6.96969697,\n",
       "        7.07070707,  7.17171717,  7.27272727,  7.37373737,  7.47474747,\n",
       "        7.57575758,  7.67676768,  7.77777778,  7.87878788,  7.97979798,\n",
       "        8.08080808,  8.18181818,  8.28282828,  8.38383838,  8.48484848,\n",
       "        8.58585859,  8.68686869,  8.78787879,  8.88888889,  8.98989899,\n",
       "        9.09090909,  9.19191919,  9.29292929,  9.39393939,  9.49494949,\n",
       "        9.5959596 ,  9.6969697 ,  9.7979798 ,  9.8989899 , 10.        ])"
      ]
     },
     "execution_count": 15,
     "metadata": {},
     "output_type": "execute_result"
    }
   ],
   "source": [
    "np.linspace(0,10,100)"
   ]
  },
  {
   "cell_type": "markdown",
   "id": "8ec5a93b",
   "metadata": {},
   "source": [
    "## Creando una matriz con diagonal de valores en 1"
   ]
  },
  {
   "cell_type": "code",
   "execution_count": 16,
   "id": "a5d3e2e7",
   "metadata": {},
   "outputs": [
    {
     "data": {
      "text/plain": [
       "array([[1., 0., 0., 0.],\n",
       "       [0., 1., 0., 0.],\n",
       "       [0., 0., 1., 0.],\n",
       "       [0., 0., 0., 1.]])"
      ]
     },
     "execution_count": 16,
     "metadata": {},
     "output_type": "execute_result"
    }
   ],
   "source": [
    "np.eye(4)"
   ]
  },
  {
   "cell_type": "markdown",
   "id": "e1ee617c",
   "metadata": {},
   "source": [
    "## Creando un valor random"
   ]
  },
  {
   "cell_type": "code",
   "execution_count": 18,
   "id": "78c6c39b",
   "metadata": {},
   "outputs": [
    {
     "data": {
      "text/plain": [
       "0.6193631016452421"
      ]
     },
     "execution_count": 18,
     "metadata": {},
     "output_type": "execute_result"
    }
   ],
   "source": [
    "np.random.rand()"
   ]
  },
  {
   "cell_type": "markdown",
   "id": "08400e28",
   "metadata": {},
   "source": [
    "## Creando un Array con 4 valores random"
   ]
  },
  {
   "cell_type": "code",
   "execution_count": 19,
   "id": "c4604777",
   "metadata": {},
   "outputs": [
    {
     "data": {
      "text/plain": [
       "array([0.21341548, 0.50108279, 0.82558025, 0.96264464])"
      ]
     },
     "execution_count": 19,
     "metadata": {},
     "output_type": "execute_result"
    }
   ],
   "source": [
    "np.random.rand(4)"
   ]
  },
  {
   "cell_type": "markdown",
   "id": "6bf4c536",
   "metadata": {},
   "source": [
    "## Creando una matriz de 4x4 de valores random"
   ]
  },
  {
   "cell_type": "code",
   "execution_count": 21,
   "id": "472bd803",
   "metadata": {},
   "outputs": [
    {
     "data": {
      "text/plain": [
       "array([[0.34454706, 0.79970365, 0.61352314, 0.19265392],\n",
       "       [0.88105831, 0.2239304 , 0.68638403, 0.28594543],\n",
       "       [0.74588514, 0.33084854, 0.33853795, 0.79941551],\n",
       "       [0.64057921, 0.81139184, 0.40529476, 0.03838052]])"
      ]
     },
     "execution_count": 21,
     "metadata": {},
     "output_type": "execute_result"
    }
   ],
   "source": [
    "np.random.rand(4,4)"
   ]
  },
  {
   "cell_type": "markdown",
   "id": "02e21201",
   "metadata": {},
   "source": [
    "## Creando un valor entero que sea random"
   ]
  },
  {
   "cell_type": "code",
   "execution_count": 30,
   "id": "277201b6",
   "metadata": {},
   "outputs": [
    {
     "data": {
      "text/plain": [
       "8"
      ]
     },
     "execution_count": 30,
     "metadata": {},
     "output_type": "execute_result"
    }
   ],
   "source": [
    "np.random.randint(1,15)"
   ]
  },
  {
   "cell_type": "markdown",
   "id": "a25c2251",
   "metadata": {},
   "source": [
    "## Creando una matriz de 10x10 con valores enteros random del 1 al 100"
   ]
  },
  {
   "cell_type": "code",
   "execution_count": 31,
   "id": "244e6fc3",
   "metadata": {},
   "outputs": [
    {
     "data": {
      "text/plain": [
       "array([[45, 63, 40, 20, 95, 24, 76, 33, 32, 56],\n",
       "       [75, 14, 22, 85, 75, 87, 96, 78, 32, 40],\n",
       "       [15, 23, 89, 93, 30, 56, 92, 81, 82, 27],\n",
       "       [90, 38, 55, 62, 16, 53, 93, 49, 38, 22],\n",
       "       [ 9, 55, 93, 16, 23, 73, 72, 47, 38, 10],\n",
       "       [99, 66, 15, 86, 15, 14, 46,  7, 28, 52],\n",
       "       [33, 70, 66, 76, 82, 42, 94, 86, 35, 63],\n",
       "       [77, 79, 78, 40, 18, 98, 43, 21, 28, 48],\n",
       "       [92, 93, 44, 38, 72, 99, 92, 92, 44, 66],\n",
       "       [72,  4, 20, 11,  8, 33, 15, 89,  6,  7]])"
      ]
     },
     "execution_count": 31,
     "metadata": {},
     "output_type": "execute_result"
    }
   ],
   "source": [
    "np.random.randint(1,100, (10,10))"
   ]
  }
 ],
 "metadata": {
  "kernelspec": {
   "display_name": "Python 3 (ipykernel)",
   "language": "python",
   "name": "python3"
  },
  "language_info": {
   "codemirror_mode": {
    "name": "ipython",
    "version": 3
   },
   "file_extension": ".py",
   "mimetype": "text/x-python",
   "name": "python",
   "nbconvert_exporter": "python",
   "pygments_lexer": "ipython3",
   "version": "3.9.13"
  }
 },
 "nbformat": 4,
 "nbformat_minor": 5
}
