{
 "cells": [
  {
   "cell_type": "markdown",
   "id": "24f28b7e",
   "metadata": {},
   "source": [
    "# Ejemplos de Dimensions en NumPy"
   ]
  },
  {
   "cell_type": "code",
   "execution_count": 1,
   "id": "7d52ec87",
   "metadata": {},
   "outputs": [],
   "source": [
    "import numpy as np"
   ]
  },
  {
   "cell_type": "markdown",
   "id": "7dd4de85",
   "metadata": {},
   "source": [
    "# valores escalares (0D)"
   ]
  },
  {
   "cell_type": "code",
   "execution_count": 2,
   "id": "5980d8d1",
   "metadata": {},
   "outputs": [
    {
     "name": "stdout",
     "output_type": "stream",
     "text": [
      "77\n"
     ]
    },
    {
     "data": {
      "text/plain": [
       "0"
      ]
     },
     "execution_count": 2,
     "metadata": {},
     "output_type": "execute_result"
    }
   ],
   "source": [
    "scalar = np.array(77)\n",
    "print(scalar)\n",
    "scalar.ndim"
   ]
  },
  {
   "cell_type": "markdown",
   "id": "c4e33c52",
   "metadata": {},
   "source": [
    "# valores de array (1D)"
   ]
  },
  {
   "cell_type": "code",
   "execution_count": 3,
   "id": "1259c240",
   "metadata": {},
   "outputs": [
    {
     "name": "stdout",
     "output_type": "stream",
     "text": [
      "[1 2 3]\n"
     ]
    },
    {
     "data": {
      "text/plain": [
       "1"
      ]
     },
     "execution_count": 3,
     "metadata": {},
     "output_type": "execute_result"
    }
   ],
   "source": [
    "vector = np.array([1,2,3])\n",
    "print(vector)\n",
    "vector.ndim"
   ]
  },
  {
   "cell_type": "markdown",
   "id": "61517388",
   "metadata": {},
   "source": [
    "# valores de matriz (2D)"
   ]
  },
  {
   "cell_type": "code",
   "execution_count": 5,
   "id": "38b32353",
   "metadata": {},
   "outputs": [
    {
     "name": "stdout",
     "output_type": "stream",
     "text": [
      "[[1 2 3]\n",
      " [4 5 6]]\n"
     ]
    },
    {
     "data": {
      "text/plain": [
       "2"
      ]
     },
     "execution_count": 5,
     "metadata": {},
     "output_type": "execute_result"
    }
   ],
   "source": [
    "matriz = np.array([[1,2,3],[4,5,6]])\n",
    "print(matriz)\n",
    "matriz.ndim"
   ]
  },
  {
   "cell_type": "markdown",
   "id": "68bae29b",
   "metadata": {},
   "source": [
    "# valores de Tensor (3D) series de tiempo"
   ]
  },
  {
   "cell_type": "code",
   "execution_count": 6,
   "id": "050e6d31",
   "metadata": {},
   "outputs": [
    {
     "name": "stdout",
     "output_type": "stream",
     "text": [
      "[[[ 1  2  3]\n",
      "  [ 4  5  6]\n",
      "  [ 7  8  9]\n",
      "  [40 23 12]]\n",
      "\n",
      " [[ 1  2  3]\n",
      "  [ 4  5  6]\n",
      "  [ 7  8  9]\n",
      "  [40 23 12]]]\n"
     ]
    },
    {
     "data": {
      "text/plain": [
       "3"
      ]
     },
     "execution_count": 6,
     "metadata": {},
     "output_type": "execute_result"
    }
   ],
   "source": [
    "tensor = np.array([[[1,2,3],[4,5,6],[7,8,9],[40,23,12]],[[1,2,3],[4,5,6],[7,8,9],[40,23,12]]])\n",
    "print(tensor)\n",
    "tensor.ndim"
   ]
  },
  {
   "cell_type": "markdown",
   "id": "7c710aff",
   "metadata": {},
   "source": [
    "# Agregar o Eliminar Dimensiones"
   ]
  },
  {
   "cell_type": "markdown",
   "id": "d616fa60",
   "metadata": {},
   "source": [
    "## Expandiendo Dimensiones"
   ]
  },
  {
   "cell_type": "code",
   "execution_count": 8,
   "id": "f419a45e",
   "metadata": {},
   "outputs": [
    {
     "name": "stdout",
     "output_type": "stream",
     "text": [
      "[[[[[[[[[[1 2 3]]]]]]]]]]\n"
     ]
    },
    {
     "data": {
      "text/plain": [
       "10"
      ]
     },
     "execution_count": 8,
     "metadata": {},
     "output_type": "execute_result"
    }
   ],
   "source": [
    "vector = np.array([1,2,3], ndmin=10)\n",
    "print(vector)\n",
    "vector.ndim"
   ]
  },
  {
   "cell_type": "code",
   "execution_count": 10,
   "id": "63bf8e35",
   "metadata": {},
   "outputs": [
    {
     "name": "stdout",
     "output_type": "stream",
     "text": [
      "[[1 2 3]]\n"
     ]
    },
    {
     "data": {
      "text/plain": [
       "2"
      ]
     },
     "execution_count": 10,
     "metadata": {},
     "output_type": "execute_result"
    }
   ],
   "source": [
    "expand = np.expand_dims(np.array([1,2,3]), axis=0)\n",
    "print(expand)\n",
    "expand.ndim"
   ]
  },
  {
   "cell_type": "markdown",
   "id": "da709bfa",
   "metadata": {},
   "source": [
    "## Eliminando Dimensiones"
   ]
  },
  {
   "cell_type": "code",
   "execution_count": 15,
   "id": "a7e9d361",
   "metadata": {},
   "outputs": [
    {
     "name": "stdout",
     "output_type": "stream",
     "text": [
      "[[[[[[[[[[1 2 3]]]]]]]]]] | Dimensiones: 10\n",
      "[1 2 3] | Dimensiones: 1\n"
     ]
    }
   ],
   "source": [
    "print(vector, '| Dimensiones:' ,vector.ndim)\n",
    "vector_2 = np.squeeze(vector)\n",
    "print(vector_2, '| Dimensiones:' ,vector_2.ndim)"
   ]
  }
 ],
 "metadata": {
  "kernelspec": {
   "display_name": "Python 3 (ipykernel)",
   "language": "python",
   "name": "python3"
  },
  "language_info": {
   "codemirror_mode": {
    "name": "ipython",
    "version": 3
   },
   "file_extension": ".py",
   "mimetype": "text/x-python",
   "name": "python",
   "nbconvert_exporter": "python",
   "pygments_lexer": "ipython3",
   "version": "3.9.13"
  }
 },
 "nbformat": 4,
 "nbformat_minor": 5
}
